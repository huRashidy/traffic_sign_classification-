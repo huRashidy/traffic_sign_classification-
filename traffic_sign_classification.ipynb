{
  "cells": [
    {
      "cell_type": "code",
      "execution_count": 1,
      "metadata": {
        "colab": {
          "base_uri": "https://localhost:8080/"
        },
        "id": "YFRnjNfvcwrD",
        "outputId": "77c840ee-0b4e-4fd1-de14-2f5dd4fcb2dc"
      },
      "outputs": [
        {
          "output_type": "stream",
          "name": "stdout",
          "text": [
            "Mounted at /content/drive\n"
          ]
        }
      ],
      "source": [
        "from google.colab import drive\n",
        "drive.mount('/content/drive')"
      ]
    },
    {
      "cell_type": "code",
      "execution_count": 2,
      "metadata": {
        "colab": {
          "base_uri": "https://localhost:8080/"
        },
        "id": "Op8C84gQdNw_",
        "outputId": "13e996a2-f12c-41c6-bdab-a24ee412536b"
      },
      "outputs": [
        {
          "output_type": "stream",
          "name": "stdout",
          "text": [
            "/content/drive/MyDrive/traffic2\n",
            " 800px-STOP_sign.jpg\n",
            "'download (1).png'\n",
            " highway-and-sign-with-speed-limit-120-kmh-.jpg\n",
            " Italian_traffic_signs_-_fermarsi_e_dare_precedenza_-_stop.svg.png\n",
            " meta\n",
            " Meta\n",
            " Meta.csv\n",
            " model1.dat\n",
            " modelhistory1.dat\n",
            " modelhistory.dat\n",
            " modell1.dat\n",
            " modell.dat\n",
            " road-sign-warning-bumpy-traffic-board-illustrating-ahead-124353011.jpg\n",
            " test\n",
            " Test\n",
            " Test.csv\n",
            " train\n",
            " Train\n",
            " Train.csv\n",
            " xtrainn.dat\n",
            " xvall.dat\n",
            " ytrainn.dat\n",
            " yvall.dat\n"
          ]
        }
      ],
      "source": [
        "%cd '/content/drive/MyDrive/traffic2'\n",
        "!ls"
      ]
    },
    {
      "cell_type": "code",
      "execution_count": 3,
      "metadata": {
        "id": "vGhnwuN9dQA3"
      },
      "outputs": [],
      "source": [
        "from tensorflow.keras.preprocessing.image import ImageDataGenerator\n",
        "from tensorflow.keras.optimizers import Adam\n",
        "from tensorflow.keras.utils import to_categorical\n",
        "import tensorflow as tf\n",
        "from sklearn.metrics import classification_report\n",
        "from skimage import transform\n",
        "from skimage import exposure\n",
        "from skimage import io\n",
        "import matplotlib.pyplot as plt\n",
        "import numpy as np\n",
        "import argparse\n",
        "import random\n",
        "import os\n",
        "import matplotlib\n",
        "import pickle\n"
      ]
    },
    {
      "cell_type": "code",
      "execution_count": 4,
      "metadata": {
        "colab": {
          "base_uri": "https://localhost:8080/"
        },
        "id": "2S-KyCkbdVsu",
        "outputId": "8a71c01a-a2ee-498f-dfd6-373c3ab8ffd2"
      },
      "outputs": [
        {
          "output_type": "stream",
          "name": "stdout",
          "text": [
            "(39209, 32, 32, 3)\n",
            "(39209,)\n",
            "(12630, 32, 32, 3)\n",
            "(12630,)\n"
          ]
        }
      ],
      "source": [
        "with open('xtrainn.dat', 'rb') as f:\n",
        "  xtrain = pickle.load(f)\n",
        "  print(xtrain.shape)\n",
        "with open('ytrainn.dat', 'rb') as f:\n",
        "  ytrain = pickle.load(f)\n",
        "  print(ytrain.shape)\n",
        "with open('xvall.dat', 'rb') as f:\n",
        "  xval = pickle.load(f)\n",
        "  print(xval.shape)\n",
        "with open('yvall.dat', 'rb') as f:\n",
        "  yval = pickle.load(f)  \n",
        "  print(yval.shape)"
      ]
    },
    {
      "cell_type": "code",
      "execution_count": 5,
      "metadata": {
        "colab": {
          "base_uri": "https://localhost:8080/"
        },
        "id": "8HzSCAwHdsL_",
        "outputId": "c14acd2d-6542-47f1-ac88-acc87f4e6456"
      },
      "outputs": [
        {
          "output_type": "stream",
          "name": "stdout",
          "text": [
            "43\n",
            "{0: 10.714286, 1: 1.0135136, 2: 1.0, 3: 1.5957447, 4: 1.1363636, 5: 1.2096775, 6: 5.357143, 7: 1.5625, 8: 1.5957447, 9: 1.5306122, 10: 1.119403, 11: 1.7045455, 12: 1.0714285, 13: 1.0416666, 14: 2.8846154, 15: 3.5714285, 16: 5.357143, 17: 2.0270271, 18: 1.875, 19: 10.714286, 20: 6.25, 21: 6.818182, 22: 5.769231, 23: 4.4117646, 24: 8.333333, 25: 1.5, 26: 3.75, 27: 9.375, 28: 4.1666665, 29: 8.333333, 30: 5.0, 31: 2.8846154, 32: 9.375, 33: 3.2656024, 34: 5.357143, 35: 1.875, 36: 5.769231, 37: 10.714286, 38: 1.0869565, 39: 7.5, 40: 6.25, 41: 9.375, 42: 9.375}\n"
          ]
        }
      ],
      "source": [
        "xtrain =np.dot(xtrain[...,:3], [0.299, 0.587, 0.114])\n",
        "xval = np.dot(xval[...,:3], [0.299, 0.587, 0.114])\n",
        "xtrain = np.expand_dims(xtrain, axis=3)\n",
        "xval = np.expand_dims(xval, axis=3)\n",
        "# one-hot encode the training and testing labels\n",
        "num_label = len(np.unique(ytrain))\n",
        "trainY = to_categorical(ytrain, num_label)\n",
        "testY = to_categorical(yval, num_label)\n",
        "print(num_label)\n",
        "\n",
        "# calculate the total number of images in each class and\n",
        "# initialize a dictionary to store the class weights\n",
        "classTotals = trainY.sum(axis=0)\n",
        "classWeight = dict()\n",
        "# loop over all classes and calculate the class weight\n",
        "for i in range(0, len(classTotals)):\n",
        "\tclassWeight[i] = classTotals.max() / classTotals[i]\n",
        "print(classWeight)\t"
      ]
    },
    {
      "cell_type": "code",
      "execution_count": 95,
      "metadata": {
        "colab": {
          "base_uri": "https://localhost:8080/"
        },
        "id": "XnB2yDKDd77I",
        "outputId": "65736d8d-476e-4af6-ef4a-a561f8c85a3d"
      },
      "outputs": [
        {
          "output_type": "stream",
          "name": "stdout",
          "text": [
            "(39209, 32, 32, 1)\n",
            "(12630, 32, 32, 1)\n"
          ]
        }
      ],
      "source": [
        "from sklearn.utils import shuffle\n",
        "x_train_shuffled,y_train_shuffled = shuffle(xtrain, ytrain, random_state=0)\n",
        "x_val_shuffled,y_val_shuffled = shuffle(xval, yval, random_state=1)\n",
        "print(x_train_shuffled.shape)\n",
        "print(x_val_shuffled.shape)"
      ]
    },
    {
      "cell_type": "code",
      "execution_count": null,
      "metadata": {
        "colab": {
          "base_uri": "https://localhost:8080/"
        },
        "id": "NNPJfA7J_Qky",
        "outputId": "68985a01-1eca-4d41-c679-912ddea4984c"
      },
      "outputs": [
        {
          "output_type": "stream",
          "name": "stdout",
          "text": [
            "Model: \"sequential_7\"\n",
            "_________________________________________________________________\n",
            " Layer (type)                Output Shape              Param #   \n",
            "=================================================================\n",
            " conv2d_21 (Conv2D)          (None, 32, 32, 32)        320       \n",
            "                                                                 \n",
            " max_pooling2d_21 (MaxPoolin  (None, 16, 16, 32)       0         \n",
            " g2D)                                                            \n",
            "                                                                 \n",
            " batch_normalization_28 (Bat  (None, 16, 16, 32)       128       \n",
            " chNormalization)                                                \n",
            "                                                                 \n",
            " dropout_21 (Dropout)        (None, 16, 16, 32)        0         \n",
            "                                                                 \n",
            " conv2d_22 (Conv2D)          (None, 16, 16, 256)       73984     \n",
            "                                                                 \n",
            " max_pooling2d_22 (MaxPoolin  (None, 8, 8, 256)        0         \n",
            " g2D)                                                            \n",
            "                                                                 \n",
            " batch_normalization_29 (Bat  (None, 8, 8, 256)        1024      \n",
            " chNormalization)                                                \n",
            "                                                                 \n",
            " dropout_22 (Dropout)        (None, 8, 8, 256)         0         \n",
            "                                                                 \n",
            " conv2d_23 (Conv2D)          (None, 8, 8, 256)         590080    \n",
            "                                                                 \n",
            " max_pooling2d_23 (MaxPoolin  (None, 4, 4, 256)        0         \n",
            " g2D)                                                            \n",
            "                                                                 \n",
            " batch_normalization_30 (Bat  (None, 4, 4, 256)        1024      \n",
            " chNormalization)                                                \n",
            "                                                                 \n",
            " flatten_7 (Flatten)         (None, 4096)              0         \n",
            "                                                                 \n",
            " dense_21 (Dense)            (None, 1024)              4195328   \n",
            "                                                                 \n",
            " batch_normalization_31 (Bat  (None, 1024)             4096      \n",
            " chNormalization)                                                \n",
            "                                                                 \n",
            " dropout_23 (Dropout)        (None, 1024)              0         \n",
            "                                                                 \n",
            " dense_22 (Dense)            (None, 1024)              1049600   \n",
            "                                                                 \n",
            " dense_23 (Dense)            (None, 43)                44075     \n",
            "                                                                 \n",
            "=================================================================\n",
            "Total params: 5,959,659\n",
            "Trainable params: 5,956,523\n",
            "Non-trainable params: 3,136\n",
            "_________________________________________________________________\n"
          ]
        }
      ],
      "source": [
        "model2 = tf.keras.models.Sequential([\n",
        "    tf.keras.layers.Conv2D(32, (3,3), activation='relu', input_shape=(32, 32,1), padding=\"same\"),\n",
        "    tf.keras.layers.MaxPooling2D((2, 2),strides=2),\n",
        "    tf.keras.layers.BatchNormalization(axis=-1),\n",
        "    tf.keras.layers.Dropout(0.3),\n",
        "    # The second convolutional layer\n",
        "    tf.keras.layers.Conv2D(256, (3,3), activation='relu', padding = 'same'),\n",
        "    tf.keras.layers.MaxPooling2D((2,2),strides =2),\n",
        "    tf.keras.layers.BatchNormalization(axis=-1),\n",
        "    tf.keras.layers.Dropout(0.3),\n",
        "    #the third convolutional layer\n",
        "    tf.keras.layers.Conv2D(256, (3,3), activation='relu', padding = 'same'),\n",
        "    tf.keras.layers.MaxPooling2D((2,2), padding='same'),\n",
        "    tf.keras.layers.BatchNormalization(axis=-1),\n",
        "    #  neuron hidden layer\n",
        "    tf.keras.layers.Flatten(),\n",
        "    tf.keras.layers.Dense(1024, activation='relu'),\n",
        "    tf.keras.layers.BatchNormalization(axis=-1),\n",
        "    tf.keras.layers.Dropout(0.5),\n",
        "    tf.keras.layers.Dense(1024, activation='relu'),\n",
        "    tf.keras.layers.Dense(num_label, activation='softmax')\n",
        "])\n",
        "model2.summary()"
      ]
    },
    {
      "cell_type": "code",
      "execution_count": 96,
      "metadata": {
        "id": "niZ4e9uedsn-"
      },
      "outputs": [],
      "source": [
        "NUM_EPOCHS = 20\n",
        "INIT_LR = 1e-3\n",
        "BS = 64\n",
        "\n",
        "trainaug = ImageDataGenerator(\n",
        "\trotation_range=10,\n",
        "\tzoom_range=0.15,\n",
        "\twidth_shift_range=0.1,\n",
        "\theight_shift_range=0.1,\n",
        "\tshear_range=0.15,\n",
        "\thorizontal_flip=False,\n",
        "\tvertical_flip=False,\n",
        "\tfill_mode=\"nearest\")\n",
        "\n",
        "valaug = ImageDataGenerator()\n",
        "\n",
        "train_generator = trainaug.flow(x_train_shuffled,y_train_shuffled ,batch_size= BS )\n",
        "val_generator = valaug.flow(x_val_shuffled,y_val_shuffled )\n",
        "# initialize the optimizer and compile the model\n",
        "\n",
        "model2.compile(loss = tf.keras.losses.SparseCategoricalCrossentropy(from_logits=True), optimizer=\"adam\", metrics=['accuracy'])\n",
        "\n"
      ]
    },
    {
      "cell_type": "code",
      "execution_count": null,
      "metadata": {
        "colab": {
          "base_uri": "https://localhost:8080/"
        },
        "id": "CjlevzEhBNHa",
        "outputId": "3a1dfc6d-782c-4de2-eac6-f3ea321c5302"
      },
      "outputs": [
        {
          "output_type": "stream",
          "name": "stdout",
          "text": [
            "Epoch 1/20\n"
          ]
        },
        {
          "output_type": "stream",
          "name": "stderr",
          "text": [
            "/usr/local/lib/python3.7/dist-packages/tensorflow/python/util/dispatch.py:1082: UserWarning: \"`sparse_categorical_crossentropy` received `from_logits=True`, but the `output` argument was produced by a sigmoid or softmax activation and thus does not represent logits. Was this intended?\"\n",
            "  return dispatch_target(*args, **kwargs)\n"
          ]
        },
        {
          "output_type": "stream",
          "name": "stdout",
          "text": [
            "612/612 [==============================] - 416s 678ms/step - loss: 3.6588 - accuracy: 0.5793 - val_loss: 1.0448 - val_accuracy: 0.7333\n",
            "Epoch 2/20\n",
            "612/612 [==============================] - 405s 661ms/step - loss: 1.2104 - accuracy: 0.8322 - val_loss: 0.5359 - val_accuracy: 0.8852\n",
            "Epoch 3/20\n",
            "612/612 [==============================] - 411s 672ms/step - loss: 0.8606 - accuracy: 0.8801 - val_loss: 0.2421 - val_accuracy: 0.9337\n",
            "Epoch 4/20\n",
            "612/612 [==============================] - 408s 667ms/step - loss: 0.7012 - accuracy: 0.9071 - val_loss: 0.2261 - val_accuracy: 0.9419\n",
            "Epoch 5/20\n",
            "612/612 [==============================] - 404s 660ms/step - loss: 0.5852 - accuracy: 0.9197 - val_loss: 0.4931 - val_accuracy: 0.8972\n",
            "Epoch 6/20\n",
            "612/612 [==============================] - 405s 662ms/step - loss: 0.5242 - accuracy: 0.9294 - val_loss: 0.2720 - val_accuracy: 0.9428\n",
            "Epoch 7/20\n",
            "612/612 [==============================] - 405s 663ms/step - loss: 0.4629 - accuracy: 0.9372 - val_loss: 0.2000 - val_accuracy: 0.9537\n",
            "Epoch 8/20\n",
            "612/612 [==============================] - 406s 663ms/step - loss: 0.4122 - accuracy: 0.9437 - val_loss: 0.2833 - val_accuracy: 0.9388\n",
            "Epoch 9/20\n",
            "612/612 [==============================] - 406s 663ms/step - loss: 0.4203 - accuracy: 0.9437 - val_loss: 0.1958 - val_accuracy: 0.9521\n",
            "Epoch 10/20\n",
            "612/612 [==============================] - 406s 664ms/step - loss: 0.3795 - accuracy: 0.9501 - val_loss: 0.2173 - val_accuracy: 0.9454\n",
            "Epoch 11/20\n",
            "612/612 [==============================] - 401s 655ms/step - loss: 0.3679 - accuracy: 0.9510 - val_loss: 0.1893 - val_accuracy: 0.9595\n",
            "Epoch 12/20\n",
            "612/612 [==============================] - 405s 661ms/step - loss: 0.3420 - accuracy: 0.9532 - val_loss: 0.1792 - val_accuracy: 0.9587\n",
            "Epoch 13/20\n",
            "612/612 [==============================] - 403s 659ms/step - loss: 0.3203 - accuracy: 0.9560 - val_loss: 0.2225 - val_accuracy: 0.9435\n",
            "Epoch 14/20\n",
            "612/612 [==============================] - 403s 659ms/step - loss: 0.3041 - accuracy: 0.9572 - val_loss: 0.1636 - val_accuracy: 0.9572\n",
            "Epoch 15/20\n",
            "612/612 [==============================] - 400s 654ms/step - loss: 0.3057 - accuracy: 0.9598 - val_loss: 0.2709 - val_accuracy: 0.9333\n",
            "Epoch 16/20\n",
            "612/612 [==============================] - 407s 665ms/step - loss: 0.2635 - accuracy: 0.9640 - val_loss: 0.1586 - val_accuracy: 0.9671\n",
            "Epoch 17/20\n",
            "612/612 [==============================] - 401s 656ms/step - loss: 0.2462 - accuracy: 0.9651 - val_loss: 0.1579 - val_accuracy: 0.9581\n",
            "Epoch 18/20\n",
            "612/612 [==============================] - 400s 654ms/step - loss: 0.2551 - accuracy: 0.9641 - val_loss: 0.1330 - val_accuracy: 0.9684\n",
            "Epoch 19/20\n",
            "612/612 [==============================] - 400s 654ms/step - loss: 0.2909 - accuracy: 0.9633 - val_loss: 0.2287 - val_accuracy: 0.9451\n",
            "Epoch 20/20\n",
            "612/612 [==============================] - 398s 651ms/step - loss: 0.2626 - accuracy: 0.9659 - val_loss: 0.1677 - val_accuracy: 0.9627\n"
          ]
        }
      ],
      "source": [
        "History2 = model2.fit(\n",
        "    train_generator,\n",
        "\tvalidation_data=val_generator,\n",
        "\tsteps_per_epoch= int(xtrain.shape[0] / BS),\n",
        "\tepochs=NUM_EPOCHS,\n",
        "\tclass_weight=classWeight,\n",
        "\tverbose=1\n",
        ")"
      ]
    },
    {
      "cell_type": "code",
      "source": [
        "pickle.dump(History2, open(\"modelhistory1.dat\", \"wb\"))\n",
        "pickle.dump(model2 , open(\"modell1.dat\" , \"wb\"))"
      ],
      "metadata": {
        "id": "A-6Fu3vhMLzc"
      },
      "execution_count": null,
      "outputs": []
    },
    {
      "cell_type": "code",
      "execution_count": null,
      "metadata": {
        "id": "KfR8wO80cK3B"
      },
      "outputs": [],
      "source": [
        "model2.save(\"/content/drive/MyDrive\")"
      ]
    },
    {
      "cell_type": "code",
      "source": [
        "with open('modell1.dat', 'rb') as f:\n",
        "  model2 = pickle.load(f)\n",
        "with open('modelhistory1.dat', 'rb') as f:\n",
        "  History2 = pickle.load(f)"
      ],
      "metadata": {
        "id": "w9h9wRJV-ioy"
      },
      "execution_count": 98,
      "outputs": []
    },
    {
      "cell_type": "code",
      "execution_count": 103,
      "metadata": {
        "id": "cIYpOU_IZhJz",
        "colab": {
          "base_uri": "https://localhost:8080/",
          "height": 582
        },
        "outputId": "f799412d-7071-4371-c141-681e44667183"
      },
      "outputs": [
        {
          "output_type": "execute_result",
          "data": {
            "text/plain": [
              "<matplotlib.legend.Legend at 0x7f6291cd2390>"
            ]
          },
          "metadata": {},
          "execution_count": 103
        },
        {
          "output_type": "display_data",
          "data": {
            "text/plain": [
              "<Figure size 432x288 with 1 Axes>"
            ],
            "image/png": "[encoded data removed]"
          },
          "metadata": {}
        },
        {
          "output_type": "display_data",
          "data": {
            "text/plain": [
              "<Figure size 432x288 with 1 Axes>"
            ],
            "image/png": "[encoded data removed]"
          },
          "metadata": {}
        }
      ],
      "source": [
        "N = np.arange(0, NUM_EPOCHS)\n",
        "plt.style.use(\"ggplot\")\n",
        "plt.figure(1)\n",
        "plt.title(\"Training Loss Dataset for  model\")\n",
        "plt.plot(N, History2.history[\"loss\"], label=\"train_loss\")\n",
        "plt.plot(N, History2.history[\"val_loss\"], label=\"val_loss\")\n",
        "plt.figure(2)\n",
        "plt.title(\"Training Accuracy on Dataset for model\")\n",
        "plt.plot(N, History2.history[\"accuracy\"], label=\"train_acc\")\n",
        "plt.plot(N, History2.history[\"val_accuracy\"], label=\"val_acc\")\n",
        "plt.xlabel(\"Epoch #\")\n",
        "plt.ylabel(\"Accuracy\")\n",
        "plt.legend(loc=\"lower left\")\n"
      ]
    },
    {
      "cell_type": "code",
      "execution_count": null,
      "metadata": {
        "id": "gBTwWVo5fiCv"
      },
      "outputs": [],
      "source": [
        "indeces = []\n",
        "dicts=[  \"Speed limit (20km/h)\",   \n",
        "         \"Speed limit (30km/h)\",  \n",
        "         \"Speed limit (50km/h)\", \n",
        "         'Speed limit (60km/h)',      \n",
        "         \"Speed limit (70km/h)\",    \n",
        "         \"Speed limit (80km/h)\",    \n",
        "  \"End of speed limit (80km/h)\",\n",
        "       \"Speed limit (100km/h)\" ,     \n",
        "        \"Speed limit (120km/h)\" ,        \n",
        "         \"No passing\" ,\n",
        "        \"No passing veh over 3.5 tons\",   \n",
        "        \"Right-of-way at intersection\" ,     \n",
        "                \"Priority road\" ,\n",
        "                     \"Yield\"       ,\n",
        "                          \"Stop\" ,      \n",
        "                  \"No vehicles\"   ,    \n",
        "    \"Veh > 3.5 tons prohibited\"    ,   \n",
        "                     \"No entry\"     ,  \n",
        "              \"General caution\"      ,        \n",
        "         \"Dangerous curve left\"       ,\n",
        "        \"Dangerous curve right\"  ,\n",
        "                 \"Double curve\"  , \n",
        "                  \"Bumpy road\"  ,\n",
        "                \"Slippery road\"    ,   \n",
        "    \"Road narrows on the right\"     ,  \n",
        "                    \"Road work\"      ,   \n",
        "              \"Traffic signals\"        , \n",
        "                  \"Pedestrians\" ,  \n",
        "           \"Children crossing\"   ,\n",
        "      \"Bicycles crossing \"     ,\n",
        "           \"Beware of ice/snow\" ,      \n",
        "        \"Wild animals crossing\"  ,     \n",
        "     \"End speed + passing limits\"   ,    \n",
        "             \"Turn right ahead\"    ,   \n",
        "              \"Turn left ahead\"     ,  \n",
        "                   \"Ahead only\"   , \n",
        "         \"Go straight or right \"      ,\n",
        "          \"Go straight or left\"      ,\n",
        "                   \"Keep right\"      ,\n",
        "          \"   Keep left \"      ,\n",
        "         \"Roundabout mandatory \"     ,\n",
        "           \" End of no passing\"       ,\n",
        "      \"End no passing veh > 3.5 tons\"  ]\n",
        "for i in range(num_label):\n",
        "        indeces.append(i)\n",
        "result = {key: val for key, val in zip(indeces, dicts)}\n"
      ]
    },
    {
      "cell_type": "code",
      "execution_count": null,
      "metadata": {
        "colab": {
          "base_uri": "https://localhost:8080/"
        },
        "id": "f0HTF7SLz2UQ",
        "outputId": "5740fd8d-e52c-43be-c9f6-1042ac4d331a"
      },
      "outputs": [
        {
          "output_type": "stream",
          "name": "stdout",
          "text": [
            "{0: 'Speed limit (20km/h)', 1: 'Speed limit (30km/h)', 2: 'Speed limit (50km/h)', 3: 'Speed limit (60km/h)', 4: 'Speed limit (70km/h)', 5: 'Speed limit (80km/h)', 6: 'End of speed limit (80km/h)', 7: 'Speed limit (100km/h)', 8: 'Speed limit (120km/h)', 9: 'No passing', 10: 'No passing veh over 3.5 tons', 11: 'Right-of-way at intersection', 12: 'Priority road', 13: 'Yield', 14: 'Stop', 15: 'No vehicles', 16: 'Veh > 3.5 tons prohibited', 17: 'No entry', 18: 'General caution', 19: 'Dangerous curve left', 20: 'Dangerous curve right', 21: 'Double curve', 22: 'Bumpy road', 23: 'Slippery road', 24: 'Road narrows on the right', 25: 'Road work', 26: 'Traffic signals', 27: 'Pedestrians', 28: 'Children crossing', 29: 'Bicycles crossing ', 30: 'Beware of ice/snow', 31: 'Wild animals crossing', 32: 'End speed + passing limits', 33: 'Turn right ahead', 34: 'Turn left ahead', 35: 'Ahead only', 36: 'Go straight or right ', 37: 'Go straight or left', 38: 'Keep right', 39: '   Keep left ', 40: 'Roundabout mandatory ', 41: ' End of no passing', 42: 'End no passing veh > 3.5 tons'}\n"
          ]
        }
      ],
      "source": [
        "print(result)"
      ]
    },
    {
      "cell_type": "code",
      "execution_count": null,
      "metadata": {
        "id": "BpJ8RaMAz7MH"
      },
      "outputs": [],
      "source": [
        "from google.colab import files\n",
        "from IPython.display import Image\n",
        "import matplotlib.pyplot as plt\n",
        "import matplotlib.image as mpimg\n",
        "\n",
        "def show_result(path):\n",
        "  image = tf.keras.preprocessing.image.load_img(path, target_size=(32, 32))\n",
        "  input_arr = tf.keras.preprocessing.image.img_to_array(image)\n",
        "  input_arr = np.array([input_arr])  # Convert single image to a batch.\n",
        "  input_arr =np.dot(input_arr[...,:3], [0.299, 0.587, 0.114])\n",
        "  input_arr = np.expand_dims(input_arr, axis=3)\n",
        "  img = mpimg.imread(path)\n",
        "  imgplot = plt.imshow(img)\n",
        "  plt.show()\n",
        "  predictions = model2.predict(input_arr)\n",
        "  print(predictions)\n",
        "  index = np.argmax(predictions[0])\n",
        "  print(\"the traffic sign is \" , result[index])"
      ]
    },
    {
      "cell_type": "code",
      "source": [
        "%cd '/content/drive/MyDrive/traffic2'\n"
      ],
      "metadata": {
        "colab": {
          "base_uri": "https://localhost:8080/"
        },
        "id": "lLOe44t5zMZE",
        "outputId": "a1cec4e1-eca7-49b9-b925-ce22448fe504"
      },
      "execution_count": 10,
      "outputs": [
        {
          "output_type": "stream",
          "name": "stdout",
          "text": [
            "/content/drive/MyDrive/traffic2\n"
          ]
        }
      ]
    },
    {
      "cell_type": "code",
      "source": [
        "def load_split(basePath , csvPath):\n",
        "  data = []\n",
        "  labels = []\n",
        "\n",
        "  rows = open(csvPath).read().strip().split(\"\\n\")[1:]\n",
        "  random.shuffle(rows)\n",
        "  print(rows[0:])\n",
        "  # loop over the rows of the CSV file\n",
        "  for (i, row) in enumerate(rows):\n",
        "    # check to see if we should show a status update\n",
        "    if i > 0 and i % 1000 == 0:\n",
        "      print(\"[INFO] processed {} total images\".format(i))\n",
        "    # split the row into components and then grab the class ID\n",
        "    # and image path\n",
        "    (imagePath,label) = row.strip().split(\",\")[0:2]\n",
        "    # derive the full path to the image file and load it\n",
        "    imagePath = os.path.sep.join([basePath, imagePath])\n",
        "    image = io.imread(imagePath)\n",
        "    # resize the image to be 32x32 pixels, ignoring aspect ratio,\n",
        "    # and then perform Contrast Limited Adaptive Histogram\n",
        "    # Equalization (CLAHE)\n",
        "    image = transform.resize(image, (32, 32))\n",
        "    image = exposure.equalize_adapthist(image, clip_limit=0.1)\n",
        "    # update the list of data and labels, respectively\n",
        "    data.append(image)\n",
        "\n",
        "    labels.append(int(label))\n",
        "    # convert the data and labels to NumPy arrays\n",
        "    # data = np.array(data)\n",
        "    # labels = np.array(labels)\n",
        "    # return a tuple of the data and labels\n",
        "  data = np.array(data)\n",
        "  labels = np.array(labels)  \n",
        "  return (data, labels)\n"
      ],
      "metadata": {
        "id": "ZGu9MCzPrnC5"
      },
      "execution_count": 57,
      "outputs": []
    },
    {
      "cell_type": "code",
      "source": [
        "xtest , ytest = load_split('/content/drive/MyDrive/traffic2' ,'/content/drive/MyDrive/traffic2/Meta.csv' )"
      ],
      "metadata": {
        "colab": {
          "base_uri": "https://localhost:8080/"
        },
        "id": "k3vAPrmjzXsr",
        "outputId": "9648541a-ca02-4e79-a9d2-e475a946f185"
      },
      "execution_count": 81,
      "outputs": [
        {
          "output_type": "stream",
          "name": "stdout",
          "text": [
            "['Meta/6.png,6,1,3,3.3', 'Meta/31.png,31,0,0,1.36', 'Meta/19.png,19,0,0,1.2', 'Meta/3.png,3,1,0,3.29', 'Meta/1.png,1,1,0,3.29', 'Meta/28.png,28,0,0,1.33', 'Meta/30.png,30,0,0,None', 'Meta/29.png,29,0,0,1.34', 'Meta/23.png,23,0,0,1.13', 'Meta/10.png,10,1,0,3.27', 'Meta/25.png,25,0,0,1.37', 'Meta/39.png,39,1,1,4.8', 'Meta/18.png,18,0,0,1.39', 'Meta/26.png,26,0,0,1.24', 'Meta/32.png,32,1,3,3.42', 'Meta/27.png,27,0,0,1.32', 'Meta/24.png,24,0,0,1.5.2', 'Meta/36.png,36,1,1,4.4', 'Meta/20.png,20,0,0,1.1', 'Meta/33.png,33,1,1,4.2', 'Meta/15.png,15,1,0,3.1', 'Meta/14.png,14,3,0,2.2', 'Meta/35.png,35,1,1,4.1', 'Meta/13.png,13,4,0,2.1', 'Meta/4.png,4,1,0,3.29', 'Meta/5.png,5,1,0,3.29', 'Meta/22.png,22,0,0,1.1', 'Meta/0.png,0,1,0,3.29', 'Meta/16.png,16,1,0,3.3', 'Meta/12.png,12,2,2,2.3', 'Meta/2.png,2,1,0,3.29', 'Meta/38.png,38,1,1,4.7', 'Meta/34.png,34,1,1,4.3', 'Meta/21.png,21,0,0,1.3.2', 'Meta/41.png,41,1,3,3.26', 'Meta/9.png,9,1,0,3.25', 'Meta/8.png,8,1,0,3.29', 'Meta/11.png,11,0,0,1.22', 'Meta/42.png,42,1,3,3.28', 'Meta/40.png,40,1,1,4.1', 'Meta/7.png,7,1,0,3.29', 'Meta/17.png,17,1,0,3.21', 'Meta/37.png,37,1,1,4.5']\n"
          ]
        }
      ]
    },
    {
      "cell_type": "code",
      "source": [
        "xtest = np.dot(xtest[...,:3], [0.299, 0.587, 0.114])\n",
        "xtest = np.expand_dims(xtest, axis=3)\n",
        "ypred = model2.predict(xtest)\n"
      ],
      "metadata": {
        "id": "kHnwZG5P91TM"
      },
      "execution_count": 82,
      "outputs": []
    },
    {
      "cell_type": "code",
      "source": [
        "print(ypred)\n",
        "print(ypred.shape[0])\n",
        "print(np.argmax(ypred[0]))"
      ],
      "metadata": {
        "colab": {
          "base_uri": "https://localhost:8080/"
        },
        "id": "-sqgsuYRBWYm",
        "outputId": "359ccc93-7b26-42f1-8eed-d01a04e10424"
      },
      "execution_count": 87,
      "outputs": [
        {
          "output_type": "stream",
          "name": "stdout",
          "text": [
            "[[3.9082696e-18 2.8125516e-11 3.2988173e-10 ... 5.8299727e-18\n",
            "  4.7290857e-15 1.2997898e-20]\n",
            " [3.9060708e-14 1.9661143e-12 4.8035305e-11 ... 1.9273466e-07\n",
            "  9.5670403e-18 7.3764129e-18]\n",
            " [4.6253942e-25 1.1591288e-19 1.4901056e-20 ... 8.1198445e-22\n",
            "  1.2407679e-19 7.9227774e-27]\n",
            " ...\n",
            " [1.3718901e-10 2.0406642e-05 2.1672392e-07 ... 1.1856224e-10\n",
            "  1.0519136e-16 1.5788501e-09]\n",
            " [0.0000000e+00 0.0000000e+00 0.0000000e+00 ... 0.0000000e+00\n",
            "  0.0000000e+00 0.0000000e+00]\n",
            " [0.0000000e+00 0.0000000e+00 0.0000000e+00 ... 0.0000000e+00\n",
            "  0.0000000e+00 0.0000000e+00]]\n",
            "43\n",
            "6\n"
          ]
        }
      ]
    },
    {
      "cell_type": "code",
      "source": [
        "ypred1 = []\n",
        "for i in range(ypred.shape[0]):\n",
        "  index = np.argmax(ypred[i])\n",
        "  ypred1.append(index)\n",
        "print(ypred1)\n"
      ],
      "metadata": {
        "colab": {
          "base_uri": "https://localhost:8080/"
        },
        "id": "6-vQMjaGAvqW",
        "outputId": "bc6c9f55-fe9e-4390-ab64-2688df3d38a2"
      },
      "execution_count": 88,
      "outputs": [
        {
          "output_type": "stream",
          "name": "stdout",
          "text": [
            "[6, 11, 19, 5, 6, 11, 23, 29, 23, 10, 25, 39, 18, 11, 32, 25, 24, 38, 20, 33, 15, 14, 38, 13, 4, 5, 22, 0, 16, 12, 5, 38, 34, 21, 41, 16, 38, 11, 42, 40, 3, 38, 37]\n"
          ]
        }
      ]
    },
    {
      "cell_type": "code",
      "source": [
        "print(ytest)"
      ],
      "metadata": {
        "colab": {
          "base_uri": "https://localhost:8080/"
        },
        "id": "T6COFEEXDmf-",
        "outputId": "b3ae4226-f8e1-42bd-a8ef-972a055c77a7"
      },
      "execution_count": 90,
      "outputs": [
        {
          "output_type": "stream",
          "name": "stdout",
          "text": [
            "[ 6 31 19  3  1 28 30 29 23 10 25 39 18 26 32 27 24 36 20 33 15 14 35 13\n",
            "  4  5 22  0 16 12  2 38 34 21 41  9  8 11 42 40  7 17 37]\n"
          ]
        }
      ]
    },
    {
      "cell_type": "code",
      "source": [
        "print(\"test accuracy\", sum(1 for x,y in zip(ytest,ypred1) if x == y) / float(len(ytest)))\n"
      ],
      "metadata": {
        "colab": {
          "base_uri": "https://localhost:8080/"
        },
        "id": "1rFd8r6CEQxv",
        "outputId": "24c20408-8c68-4543-b84c-9b510e8da120"
      },
      "execution_count": 92,
      "outputs": [
        {
          "output_type": "stream",
          "name": "stdout",
          "text": [
            "test accuracy 0.6744186046511628\n"
          ]
        }
      ]
    }
  ],
  "metadata": {
    "colab": {
      "name": "traffic sign classification.ipynb",
      "provenance": [],
      "collapsed_sections": []
    },
    "kernelspec": {
      "display_name": "Python 3",
      "name": "python3"
    },
    "language_info": {
      "name": "python"
    }
  },
  "nbformat": 4,
  "nbformat_minor": 0
}